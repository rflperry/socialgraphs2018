{
 "cells": [
  {
   "cell_type": "code",
   "execution_count": 34,
   "metadata": {},
   "outputs": [],
   "source": [
    "import twitter\n",
    "import pandas as pd"
   ]
  },
  {
   "cell_type": "code",
   "execution_count": 35,
   "metadata": {},
   "outputs": [],
   "source": [
    "key_path = './access_keys.txt'\n",
    "keys = open(key_path,'r').read().splitlines()\n",
    "key,key_secret,access_token,access_token_secret = keys"
   ]
  },
  {
   "cell_type": "code",
   "execution_count": 36,
   "metadata": {},
   "outputs": [],
   "source": [
    "api = twitter.Api(consumer_key=key,\n",
    "                  consumer_secret=key_secret,\n",
    "                  access_token_key=access_token,\n",
    "                  access_token_secret=access_token_secret)"
   ]
  },
  {
   "cell_type": "code",
   "execution_count": 37,
   "metadata": {},
   "outputs": [],
   "source": [
    "house_members = api.GetListMembers(slug='u-s-representatives',owner_screen_name='cspan')\n",
    "house_handles = [(h.name, h.screen_name) for h in house_members]"
   ]
  },
  {
   "cell_type": "code",
   "execution_count": 39,
   "metadata": {},
   "outputs": [],
   "source": [
    "congress = 115\n",
    "path_base = './data_US_congress/'\n",
    "df = pd.read_csv(path_base + 'H' + str(congress) + '.csv')\n",
    "all_members = df"
   ]
  },
  {
   "cell_type": "code",
   "execution_count": 40,
   "metadata": {},
   "outputs": [],
   "source": [
    "all_members['TwitterHandle'] = 'N/A'\n",
    "\n",
    "#Scoring function for match\n",
    "f = lambda n,h,last,first: 100*(int(last in h) + int(last in n)\n",
    "                            ) + 10*(int(first in h) + int(first in n)\n",
    "                            ) + 1*int('Rep' in h)\n",
    "\n",
    "for name, handle in house_handles:\n",
    "    ID = None\n",
    "    bestScore = 1\n",
    "    for i,row in enumerate(all_members.iterrows()):\n",
    "        if not row[1]['TwitterHandle'] == 'N/A':\n",
    "            continue\n",
    "        first,last,*_ = (i for i in row[1]['WikiPageName'].split('_') if len(i) > 1)\n",
    "        \n",
    "        score = f(name,handle,first,last)\n",
    "        if score > bestScore:\n",
    "            bestScore = score\n",
    "            ID = (handle,i)\n",
    "        \n",
    "    if not ID == None:\n",
    "        all_members['TwitterHandle'][ID[1]] = ID[0]"
   ]
  },
  {
   "cell_type": "code",
   "execution_count": 41,
   "metadata": {},
   "outputs": [],
   "source": [
    "tweets = {}\n",
    "for name,screen_name in house_handles:\n",
    "    tweets[screen_name] = api.GetUserTimeline(screen_name=screen_name,count=200)"
   ]
  },
  {
   "cell_type": "code",
   "execution_count": 42,
   "metadata": {},
   "outputs": [],
   "source": [
    "path_base = './data_US_congress_mined/'\n",
    "all_members.to_csv(path_base + 'H' + str(congress) + '_tw.csv')"
   ]
  },
  {
   "cell_type": "code",
   "execution_count": 43,
   "metadata": {},
   "outputs": [],
   "source": [
    "import pickle\n",
    "with open(path_base + 'tweets', 'wb') as handle:\n",
    "    pickle.dump(tweets, handle, protocol=pickle.HIGHEST_PROTOCOL)\n",
    "    \n",
    "#with open(path_base + 'tweets', 'rb') as handle:\n",
    "#    tweets = pickle.load(handle)"
   ]
  }
 ],
 "metadata": {
  "kernelspec": {
   "display_name": "Python 3",
   "language": "python",
   "name": "python3"
  },
  "language_info": {
   "codemirror_mode": {
    "name": "ipython",
    "version": 3
   },
   "file_extension": ".py",
   "mimetype": "text/x-python",
   "name": "python",
   "nbconvert_exporter": "python",
   "pygments_lexer": "ipython3",
   "version": "3.6.3"
  }
 },
 "nbformat": 4,
 "nbformat_minor": 2
}
